{
 "cells": [
  {
   "cell_type": "markdown",
   "metadata": {},
   "source": [
    "Notebook in R"
   ]
  },
  {
   "cell_type": "code",
   "execution_count": 2,
   "metadata": {},
   "outputs": [],
   "source": [
    "library(tidyverse)\n",
    "library(alluvial)\n"
   ]
  },
  {
   "cell_type": "code",
   "execution_count": 11,
   "metadata": {},
   "outputs": [
    {
     "data": {
      "text/html": [
       "<table>\n",
       "<thead><tr><th scope=col>Class</th><th scope=col>Sex</th><th scope=col>Age</th><th scope=col>Survived</th><th scope=col>Freq</th></tr></thead>\n",
       "<tbody>\n",
       "\t<tr><td>1st   </td><td>Male  </td><td>Child </td><td>No    </td><td> 0    </td></tr>\n",
       "\t<tr><td>2nd   </td><td>Male  </td><td>Child </td><td>No    </td><td> 0    </td></tr>\n",
       "\t<tr><td>3rd   </td><td>Male  </td><td>Child </td><td>No    </td><td>35    </td></tr>\n",
       "\t<tr><td>Crew  </td><td>Male  </td><td>Child </td><td>No    </td><td> 0    </td></tr>\n",
       "\t<tr><td>1st   </td><td>Female</td><td>Child </td><td>No    </td><td> 0    </td></tr>\n",
       "\t<tr><td>2nd   </td><td>Female</td><td>Child </td><td>No    </td><td> 0    </td></tr>\n",
       "</tbody>\n",
       "</table>\n"
      ],
      "text/latex": [
       "\\begin{tabular}{r|lllll}\n",
       " Class & Sex & Age & Survived & Freq\\\\\n",
       "\\hline\n",
       "\t 1st    & Male   & Child  & No     &  0    \\\\\n",
       "\t 2nd    & Male   & Child  & No     &  0    \\\\\n",
       "\t 3rd    & Male   & Child  & No     & 35    \\\\\n",
       "\t Crew   & Male   & Child  & No     &  0    \\\\\n",
       "\t 1st    & Female & Child  & No     &  0    \\\\\n",
       "\t 2nd    & Female & Child  & No     &  0    \\\\\n",
       "\\end{tabular}\n"
      ],
      "text/markdown": [
       "\n",
       "Class | Sex | Age | Survived | Freq | \n",
       "|---|---|---|---|---|---|\n",
       "| 1st    | Male   | Child  | No     |  0     | \n",
       "| 2nd    | Male   | Child  | No     |  0     | \n",
       "| 3rd    | Male   | Child  | No     | 35     | \n",
       "| Crew   | Male   | Child  | No     |  0     | \n",
       "| 1st    | Female | Child  | No     |  0     | \n",
       "| 2nd    | Female | Child  | No     |  0     | \n",
       "\n",
       "\n"
      ],
      "text/plain": [
       "  Class Sex    Age   Survived Freq\n",
       "1 1st   Male   Child No        0  \n",
       "2 2nd   Male   Child No        0  \n",
       "3 3rd   Male   Child No       35  \n",
       "4 Crew  Male   Child No        0  \n",
       "5 1st   Female Child No        0  \n",
       "6 2nd   Female Child No        0  "
      ]
     },
     "metadata": {},
     "output_type": "display_data"
    }
   ],
   "source": [
    "tit <- as.data.frame(Titanic, stringsAsFactors = FALSE)\n",
    "head(tit)"
   ]
  },
  {
   "cell_type": "code",
   "execution_count": 12,
   "metadata": {},
   "outputs": [
    {
     "data": {
      "text/html": [
       "<ol class=list-inline>\n",
       "\t<li>32</li>\n",
       "\t<li>5</li>\n",
       "</ol>\n"
      ],
      "text/latex": [
       "\\begin{enumerate*}\n",
       "\\item 32\n",
       "\\item 5\n",
       "\\end{enumerate*}\n"
      ],
      "text/markdown": [
       "1. 32\n",
       "2. 5\n",
       "\n",
       "\n"
      ],
      "text/plain": [
       "[1] 32  5"
      ]
     },
     "metadata": {},
     "output_type": "display_data"
    }
   ],
   "source": [
    "dim(tit)"
   ]
  },
  {
   "cell_type": "code",
   "execution_count": 29,
   "metadata": {},
   "outputs": [
    {
     "data": {
      "image/png": "[encoded data removed]",
      "text/plain": [
       "plot without title"
      ]
     },
     "metadata": {},
     "output_type": "display_data"
    }
   ],
   "source": [
    "alluvial(tit[,2:4], freq=tit$Freq,\n",
    "         col = ifelse(tit$Survived == \"Yes\", \"black\", \"grey\"),\n",
    "         border = ifelse(tit$Survived == \"Yes\", \"orange\", \"grey\"),\n",
    "         hide = tit$Freq == 0,\n",
    "         alpha = 0.8,\n",
    "         layer = tit$Survived == \"No\",\n",
    "         \n",
    "         cex = 0.7\n",
    ")"
   ]
  },
  {
   "cell_type": "code",
   "execution_count": null,
   "metadata": {},
   "outputs": [],
   "source": []
  }
 ],
 "metadata": {
  "kernelspec": {
   "display_name": "R",
   "language": "R",
   "name": "ir"
  },
  "language_info": {
   "codemirror_mode": "r",
   "file_extension": ".r",
   "mimetype": "text/x-r-source",
   "name": "R",
   "pygments_lexer": "r",
   "version": "3.4.3"
  }
 },
 "nbformat": 4,
 "nbformat_minor": 2
}
